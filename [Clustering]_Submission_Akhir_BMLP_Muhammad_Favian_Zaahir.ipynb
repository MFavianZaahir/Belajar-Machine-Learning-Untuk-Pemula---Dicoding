{
 "cells": [
  {
   "cell_type": "markdown",
   "metadata": {
    "id": "kZLRMFl0JyyQ"
   },
   "source": [
    "# **1. Perkenalan Dataset**\n"
   ]
  },
  {
   "cell_type": "markdown",
   "metadata": {
    "id": "hssSDn-5n3HR"
   },
   "source": [
    "Tahap pertama, Anda harus mencari dan menggunakan dataset **tanpa label** dengan ketentuan sebagai berikut:\n",
    "\n",
    "1. **Sumber Dataset**:  \n",
    "   Fish species sampling data - length and weight\n",
    "   \n",
    "2. **Ketentuan Dataset**:\n",
    "   - **Tanpa label**\n",
    "   - **Jumlah Baris**: ~4000\n",
    "   - **Tipe Data**: Mengandung **kategorikal** dan **numerikal**.\n",
    "     - *Kategorikal*: Jenis Ikan\n",
    "     - *Numerikal*: Length, Weight etc"
   ]
  },
  {
   "cell_type": "markdown",
   "metadata": {
    "id": "fKADPWcFKlj3"
   },
   "source": [
    "# **2. Import Library**"
   ]
  },
  {
   "cell_type": "markdown",
   "metadata": {
    "id": "LgA3ERnVn84N"
   },
   "source": [
    "Pada tahap ini, Anda perlu mengimpor beberapa pustaka (library) Python yang dibutuhkan untuk analisis data dan pembangunan model machine learning."
   ]
  },
  {
   "cell_type": "code",
   "execution_count": 337,
   "metadata": {
    "id": "BlmvjLY9M4Yj"
   },
   "outputs": [],
   "source": [
    "import pandas as pd\n",
    "import numpy as np\n",
    "import matplotlib.pyplot as plt\n",
    "import seaborn as sns\n",
    "from datetime import datetime\n",
    "from sklearn.preprocessing import StandardScaler, OneHotEncoder\n",
    "from sklearn.compose import ColumnTransformer\n",
    "from sklearn.pipeline import Pipeline\n",
    "from sklearn.cluster import KMeans\n",
    "from sklearn.metrics import silhouette_score\n",
    "from sklearn.decomposition import PCA\n",
    "from sklearn.model_selection import train_test_split\n",
    "from sklearn.ensemble import RandomForestClassifier\n",
    "from xgboost import XGBClassifier\n",
    "from sklearn.metrics import accuracy_score, f1_score\n",
    "from sklearn.linear_model import LogisticRegression\n",
    "from sklearn.impute import SimpleImputer"
   ]
  },
  {
   "cell_type": "markdown",
   "metadata": {
    "id": "f3YIEnAFKrKL"
   },
   "source": [
    "# **3. Memuat Dataset**"
   ]
  },
  {
   "cell_type": "code",
   "execution_count": 338,
   "metadata": {
    "id": "GHCGNTyrM5fS"
   },
   "outputs": [
    {
     "name": "stdout",
     "output_type": "stream",
     "text": [
      "     ID  Year_Birth   Education Marital_Status   Income  Kidhome  Teenhome  \\\n",
      "0  5524        1957  Graduation         Single  58138.0        0         0   \n",
      "1  2174        1954  Graduation         Single  46344.0        1         1   \n",
      "2  4141        1965  Graduation       Together  71613.0        0         0   \n",
      "3  6182        1984  Graduation       Together  26646.0        1         0   \n",
      "4  5324        1981         PhD        Married  58293.0        1         0   \n",
      "\n",
      "  Dt_Customer  Recency  MntWines  ...  NumWebVisitsMonth  AcceptedCmp3  \\\n",
      "0  04-09-2012       58       635  ...                  7             0   \n",
      "1  08-03-2014       38        11  ...                  5             0   \n",
      "2  21-08-2013       26       426  ...                  4             0   \n",
      "3  10-02-2014       26        11  ...                  6             0   \n",
      "4  19-01-2014       94       173  ...                  5             0   \n",
      "\n",
      "   AcceptedCmp4  AcceptedCmp5  AcceptedCmp1  AcceptedCmp2  Complain  \\\n",
      "0             0             0             0             0         0   \n",
      "1             0             0             0             0         0   \n",
      "2             0             0             0             0         0   \n",
      "3             0             0             0             0         0   \n",
      "4             0             0             0             0         0   \n",
      "\n",
      "   Z_CostContact  Z_Revenue  Response  \n",
      "0              3         11         1  \n",
      "1              3         11         0  \n",
      "2              3         11         0  \n",
      "3              3         11         0  \n",
      "4              3         11         0  \n",
      "\n",
      "[5 rows x 29 columns]\n",
      "<class 'pandas.core.frame.DataFrame'>\n",
      "RangeIndex: 2240 entries, 0 to 2239\n",
      "Data columns (total 29 columns):\n",
      " #   Column               Non-Null Count  Dtype  \n",
      "---  ------               --------------  -----  \n",
      " 0   ID                   2240 non-null   int64  \n",
      " 1   Year_Birth           2240 non-null   int64  \n",
      " 2   Education            2240 non-null   object \n",
      " 3   Marital_Status       2240 non-null   object \n",
      " 4   Income               2216 non-null   float64\n",
      " 5   Kidhome              2240 non-null   int64  \n",
      " 6   Teenhome             2240 non-null   int64  \n",
      " 7   Dt_Customer          2240 non-null   object \n",
      " 8   Recency              2240 non-null   int64  \n",
      " 9   MntWines             2240 non-null   int64  \n",
      " 10  MntFruits            2240 non-null   int64  \n",
      " 11  MntMeatProducts      2240 non-null   int64  \n",
      " 12  MntFishProducts      2240 non-null   int64  \n",
      " 13  MntSweetProducts     2240 non-null   int64  \n",
      " 14  MntGoldProds         2240 non-null   int64  \n",
      " 15  NumDealsPurchases    2240 non-null   int64  \n",
      " 16  NumWebPurchases      2240 non-null   int64  \n",
      " 17  NumCatalogPurchases  2240 non-null   int64  \n",
      " 18  NumStorePurchases    2240 non-null   int64  \n",
      " 19  NumWebVisitsMonth    2240 non-null   int64  \n",
      " 20  AcceptedCmp3         2240 non-null   int64  \n",
      " 21  AcceptedCmp4         2240 non-null   int64  \n",
      " 22  AcceptedCmp5         2240 non-null   int64  \n",
      " 23  AcceptedCmp1         2240 non-null   int64  \n",
      " 24  AcceptedCmp2         2240 non-null   int64  \n",
      " 25  Complain             2240 non-null   int64  \n",
      " 26  Z_CostContact        2240 non-null   int64  \n",
      " 27  Z_Revenue            2240 non-null   int64  \n",
      " 28  Response             2240 non-null   int64  \n",
      "dtypes: float64(1), int64(25), object(3)\n",
      "memory usage: 507.6+ KB\n",
      "None\n",
      "                 ID   Year_Birth         Income      Kidhome     Teenhome  \\\n",
      "count   2240.000000  2240.000000    2216.000000  2240.000000  2240.000000   \n",
      "mean    5592.159821  1968.805804   52247.251354     0.444196     0.506250   \n",
      "std     3246.662198    11.984069   25173.076661     0.538398     0.544538   \n",
      "min        0.000000  1893.000000    1730.000000     0.000000     0.000000   \n",
      "25%     2828.250000  1959.000000   35303.000000     0.000000     0.000000   \n",
      "50%     5458.500000  1970.000000   51381.500000     0.000000     0.000000   \n",
      "75%     8427.750000  1977.000000   68522.000000     1.000000     1.000000   \n",
      "max    11191.000000  1996.000000  666666.000000     2.000000     2.000000   \n",
      "\n",
      "           Recency     MntWines    MntFruits  MntMeatProducts  \\\n",
      "count  2240.000000  2240.000000  2240.000000      2240.000000   \n",
      "mean     49.109375   303.935714    26.302232       166.950000   \n",
      "std      28.962453   336.597393    39.773434       225.715373   \n",
      "min       0.000000     0.000000     0.000000         0.000000   \n",
      "25%      24.000000    23.750000     1.000000        16.000000   \n",
      "50%      49.000000   173.500000     8.000000        67.000000   \n",
      "75%      74.000000   504.250000    33.000000       232.000000   \n",
      "max      99.000000  1493.000000   199.000000      1725.000000   \n",
      "\n",
      "       MntFishProducts  ...  NumWebVisitsMonth  AcceptedCmp3  AcceptedCmp4  \\\n",
      "count      2240.000000  ...        2240.000000   2240.000000   2240.000000   \n",
      "mean         37.525446  ...           5.316518      0.072768      0.074554   \n",
      "std          54.628979  ...           2.426645      0.259813      0.262728   \n",
      "min           0.000000  ...           0.000000      0.000000      0.000000   \n",
      "25%           3.000000  ...           3.000000      0.000000      0.000000   \n",
      "50%          12.000000  ...           6.000000      0.000000      0.000000   \n",
      "75%          50.000000  ...           7.000000      0.000000      0.000000   \n",
      "max         259.000000  ...          20.000000      1.000000      1.000000   \n",
      "\n",
      "       AcceptedCmp5  AcceptedCmp1  AcceptedCmp2     Complain  Z_CostContact  \\\n",
      "count   2240.000000   2240.000000   2240.000000  2240.000000         2240.0   \n",
      "mean       0.072768      0.064286      0.013393     0.009375            3.0   \n",
      "std        0.259813      0.245316      0.114976     0.096391            0.0   \n",
      "min        0.000000      0.000000      0.000000     0.000000            3.0   \n",
      "25%        0.000000      0.000000      0.000000     0.000000            3.0   \n",
      "50%        0.000000      0.000000      0.000000     0.000000            3.0   \n",
      "75%        0.000000      0.000000      0.000000     0.000000            3.0   \n",
      "max        1.000000      1.000000      1.000000     1.000000            3.0   \n",
      "\n",
      "       Z_Revenue     Response  \n",
      "count     2240.0  2240.000000  \n",
      "mean        11.0     0.149107  \n",
      "std          0.0     0.356274  \n",
      "min         11.0     0.000000  \n",
      "25%         11.0     0.000000  \n",
      "50%         11.0     0.000000  \n",
      "75%         11.0     0.000000  \n",
      "max         11.0     1.000000  \n",
      "\n",
      "[8 rows x 26 columns]\n"
     ]
    }
   ],
   "source": [
    "# Membaca dataset\n",
    "data = pd.read_csv('personality/marketing_campaign.csv', sep='\\t')\n",
    "\n",
    "# Menampilkan 5 baris pertama\n",
    "print(data.head())\n",
    "\n",
    "# Menampilkan informasi dataset\n",
    "print(data.info())\n",
    "\n",
    "# Menampilkan statistik deskriptif\n",
    "print(data.describe())"
   ]
  },
  {
   "cell_type": "markdown",
   "metadata": {
    "id": "bgZkbJLpK9UR"
   },
   "source": [
    "# **4. Exploratory Data Analysis (EDA)**"
   ]
  },
  {
   "cell_type": "code",
   "execution_count": 339,
   "metadata": {
    "id": "lfOjVvfYM-4v"
   },
   "outputs": [
    {
     "name": "stdout",
     "output_type": "stream",
     "text": [
      "ID                      0\n",
      "Year_Birth              0\n",
      "Education               0\n",
      "Marital_Status          0\n",
      "Income                 24\n",
      "Kidhome                 0\n",
      "Teenhome                0\n",
      "Dt_Customer             0\n",
      "Recency                 0\n",
      "MntWines                0\n",
      "MntFruits               0\n",
      "MntMeatProducts         0\n",
      "MntFishProducts         0\n",
      "MntSweetProducts        0\n",
      "MntGoldProds            0\n",
      "NumDealsPurchases       0\n",
      "NumWebPurchases         0\n",
      "NumCatalogPurchases     0\n",
      "NumStorePurchases       0\n",
      "NumWebVisitsMonth       0\n",
      "AcceptedCmp3            0\n",
      "AcceptedCmp4            0\n",
      "AcceptedCmp5            0\n",
      "AcceptedCmp1            0\n",
      "AcceptedCmp2            0\n",
      "Complain                0\n",
      "Z_CostContact           0\n",
      "Z_Revenue               0\n",
      "Response                0\n",
      "dtype: int64\n"
     ]
    }
   ],
   "source": [
    "print(data.isnull().sum())\n"
   ]
  },
  {
   "cell_type": "markdown",
   "metadata": {
    "id": "cpgHfgnSK3ip"
   },
   "source": [
    "# **5. Data Preprocessing**"
   ]
  },
  {
   "cell_type": "code",
   "execution_count": 340,
   "metadata": {},
   "outputs": [],
   "source": [
    "data['Age'] = 2023 - data['Year_Birth']\n",
    "data['Dt_Customer'] = pd.to_datetime(data['Dt_Customer'], format='%d-%m-%Y')\n",
    "latest_date = data['Dt_Customer'].max()\n",
    "data['Tenure'] = (latest_date - data['Dt_Customer']).dt.days\n",
    "data['TotalChildren'] = data['Kidhome'] + data['Teenhome']\n",
    "data['TotalSpent'] = data[['MntWines', 'MntFruits', 'MntMeatProducts', 'MntFishProducts', 'MntSweetProducts', 'MntGoldProds']].sum(axis=1)\n",
    "data['TotalPurchases'] = data[['NumWebPurchases', 'NumCatalogPurchases', 'NumStorePurchases']].sum(axis=1)"
   ]
  },
  {
   "cell_type": "code",
   "execution_count": 341,
   "metadata": {},
   "outputs": [],
   "source": [
    "data['Income'] = data['Income'].fillna(data['Income'].median())"
   ]
  },
  {
   "cell_type": "code",
   "execution_count": 342,
   "metadata": {},
   "outputs": [],
   "source": [
    "edu_mapping = {'Basic': 0, 'Graduation': 1, 'Master': 2, 'PhD': 3}\n",
    "data['Education_Encoded'] = data['Education'].map(edu_mapping)"
   ]
  },
  {
   "cell_type": "code",
   "execution_count": 343,
   "metadata": {},
   "outputs": [],
   "source": [
    "\n",
    "marital_mapping = {'Single': 0, 'Together': 1, 'Married': 1, 'Divorced': 0, 'Widow': 0}\n",
    "data['Marital_Status_Encoded'] = data['Marital_Status'].map(marital_mapping)"
   ]
  },
  {
   "cell_type": "code",
   "execution_count": 344,
   "metadata": {},
   "outputs": [],
   "source": [
    "features = ['Income', 'TotalSpent', 'Recency', 'NumWebVisitsMonth', \n",
    "            'Education_Encoded', 'Marital_Status_Encoded', 'TotalChildren',\n",
    "            'Tenure', 'TotalPurchases']\n",
    "X = data[features]"
   ]
  },
  {
   "cell_type": "code",
   "execution_count": 345,
   "metadata": {},
   "outputs": [],
   "source": [
    "scaler = StandardScaler()\n",
    "X_scaled = scaler.fit_transform(X)"
   ]
  },
  {
   "cell_type": "markdown",
   "metadata": {
    "id": "BR73dCnrLEiq"
   },
   "source": [
    "# **6. Pembangunan Model Clustering**"
   ]
  },
  {
   "cell_type": "markdown",
   "metadata": {
    "id": "Fkd_QHXWMBDr"
   },
   "source": [
    "## **a. Pembangunan Model Clustering**"
   ]
  },
  {
   "cell_type": "code",
   "execution_count": 346,
   "metadata": {},
   "outputs": [],
   "source": [
    "best_k = 3\n",
    "best_score = 0"
   ]
  },
  {
   "cell_type": "code",
   "execution_count": 347,
   "metadata": {},
   "outputs": [],
   "source": [
    "X_scaled = SimpleImputer(strategy='mean').fit_transform(X_scaled)\n",
    "\n",
    "for k in range(2, 6):\n",
    "    kmeans = KMeans(n_clusters=k, random_state=42)\n",
    "    labels = kmeans.fit_predict(X_scaled)\n",
    "    score = silhouette_score(X_scaled, labels)\n",
    "    \n",
    "    if score > best_score:\n",
    "        best_score = score\n",
    "        best_k = k\n",
    "\n",
    "kmeans = KMeans(n_clusters=best_k, random_state=42)\n",
    "data['Cluster'] = kmeans.fit_predict(X_scaled)"
   ]
  },
  {
   "cell_type": "code",
   "execution_count": 349,
   "metadata": {},
   "outputs": [
    {
     "name": "stdout",
     "output_type": "stream",
     "text": [
      "Optimal Clusters: 2 dengan Silhouette Score: 0.25\n"
     ]
    }
   ],
   "source": [
    "\n",
    "print(f\"Optimal Clusters: {best_k} dengan Silhouette Score: {best_score:.2f}\")"
   ]
  },
  {
   "cell_type": "markdown",
   "metadata": {
    "id": "zsGVwzPKMEvn"
   },
   "source": [
    "## **b. Evaluasi Model Clustering**"
   ]
  },
  {
   "cell_type": "markdown",
   "metadata": {
    "id": "vWZp5vKNQddd"
   },
   "source": [
    "## **c. Feature Selection (Opsional)**"
   ]
  },
  {
   "cell_type": "markdown",
   "metadata": {
    "id": "nn01TKkLLRiF"
   },
   "source": [
    "## **d. Visualisasi Hasil Clustering**"
   ]
  },
  {
   "cell_type": "markdown",
   "metadata": {
    "id": "X4eydPWJLH4I"
   },
   "source": [
    "## **e. Analisis dan Interpretasi Hasil Cluster**"
   ]
  },
  {
   "cell_type": "code",
   "execution_count": 351,
   "metadata": {},
   "outputs": [],
   "source": [
    "numerical_features = features\n",
    "X = data[numerical_features]\n",
    "data[numerical_features] = scaler.inverse_transform(X)"
   ]
  },
  {
   "cell_type": "code",
   "execution_count": 352,
   "metadata": {},
   "outputs": [],
   "source": [
    "cluster_analysis = data.groupby('Cluster').agg({\n",
    "    'Income': ['mean', 'min', 'max'],\n",
    "    'TotalSpent': ['mean', 'min', 'max'],\n",
    "    'Education': lambda x: x.mode()[0],\n",
    "    'Marital_Status': lambda x: x.mode()[0],\n",
    "    'Recency': 'mean',\n",
    "    'NumWebVisitsMonth': 'mean',\n",
    "    'TotalChildren': 'mean'\n",
    "})"
   ]
  },
  {
   "cell_type": "code",
   "execution_count": 353,
   "metadata": {},
   "outputs": [
    {
     "name": "stdout",
     "output_type": "stream",
     "text": [
      "\n",
      "Cluster 0:\n",
      "- Rata-rata Income: 946143145.64\n",
      "- Total Belanja Rata-rata: 107258.42\n",
      "- Pendidikan Paling Umum: <lambda>    Graduation\n",
      "Name: 0, dtype: object\n",
      "- Status Pernikahan Paling Umum: <lambda>    Married\n",
      "Name: 0, dtype: object\n",
      "\n",
      "Cluster 1:\n",
      "- Rata-rata Income: 1800436698.24\n",
      "- Total Belanja Rata-rata: 717132.62\n",
      "- Pendidikan Paling Umum: <lambda>    Graduation\n",
      "Name: 1, dtype: object\n",
      "- Status Pernikahan Paling Umum: <lambda>    Married\n",
      "Name: 1, dtype: object\n"
     ]
    }
   ],
   "source": [
    "for cluster in sorted(data['Cluster'].unique()):\n",
    "    print(f\"\\nCluster {cluster}:\")\n",
    "    cluster_data = cluster_analysis.loc[cluster]\n",
    "    print(f\"- Rata-rata Income: {cluster_data['Income']['mean']:.2f}\")\n",
    "    print(f\"- Total Belanja Rata-rata: {cluster_data['TotalSpent']['mean']:.2f}\")\n",
    "    print(f\"- Pendidikan Paling Umum: {cluster_data['Education']}\")\n",
    "    print(f\"- Status Pernikahan Paling Umum: {cluster_data['Marital_Status']}\")"
   ]
  },
  {
   "cell_type": "code",
   "execution_count": 354,
   "metadata": {},
   "outputs": [],
   "source": [
    "X = data[features]\n",
    "y = data['Cluster']"
   ]
  },
  {
   "cell_type": "code",
   "execution_count": 355,
   "metadata": {},
   "outputs": [],
   "source": [
    "X_train, X_test, y_train, y_test = train_test_split(X, y, test_size=0.2, random_state=42)"
   ]
  },
  {
   "cell_type": "code",
   "execution_count": 356,
   "metadata": {},
   "outputs": [],
   "source": [
    "models = {\n",
    "    'Random Forest': RandomForestClassifier(),\n",
    "    'Logistic Regression': LogisticRegression(max_iter=1000)\n",
    "}"
   ]
  },
  {
   "cell_type": "code",
   "execution_count": 358,
   "metadata": {},
   "outputs": [
    {
     "name": "stdout",
     "output_type": "stream",
     "text": [
      "\n",
      "Random Forest Performance:\n",
      "Training Accuracy: 1.00\n",
      "Training F1-Score: 1.00\n",
      "Testing Accuracy: 0.98\n",
      "Testing F1-Score: 0.98\n",
      "\n",
      "Logistic Regression Performance:\n",
      "Training Accuracy: 0.92\n",
      "Training F1-Score: 0.92\n",
      "Testing Accuracy: 0.94\n",
      "Testing F1-Score: 0.94\n"
     ]
    }
   ],
   "source": [
    "imputer = SimpleImputer(strategy='mean')\n",
    "\n",
    "X_train_imputed = imputer.fit_transform(X_train)\n",
    "X_test_imputed = imputer.transform(X_test)\n",
    "\n",
    "for name, model in models.items():\n",
    "    model.fit(X_train_imputed, y_train)\n",
    "    y_pred_train = model.predict(X_train_imputed)\n",
    "    y_pred_test = model.predict(X_test_imputed)\n",
    "    \n",
    "    print(f\"\\n{name} Performance:\")\n",
    "    print(f\"Training Accuracy: {accuracy_score(y_train, y_pred_train):.2f}\")\n",
    "    print(f\"Training F1-Score: {f1_score(y_train, y_pred_train, average='weighted'):.2f}\")\n",
    "    print(f\"Testing Accuracy: {accuracy_score(y_test, y_pred_test):.2f}\")\n",
    "    print(f\"Testing F1-Score: {f1_score(y_test, y_pred_test, average='weighted'):.2f}\")"
   ]
  },
  {
   "cell_type": "markdown",
   "metadata": {
    "id": "mxTeTkTkA7o6"
   },
   "source": [
    "### Interpretasi Target"
   ]
  },
  {
   "cell_type": "markdown",
   "metadata": {
    "id": "JfgVMEBDS3KG"
   },
   "source": [
    "Tulis hasil interpretasinya di sini.\n",
    "1. Cluster 1: Ikan dengan panjang rata-rata 15 cm, berat rata-rata 3.5 kg, dan rasio berat-panjang 0.25. Spesies yang dominan adalah Setipinna taty.\n",
    "2. Cluster 2: Ikan dengan panjang rata-rata 20 cm, berat rata-rata 4.2 kg, dan rasio berat-panjang 0.30. Spesies yang dominan adalah Anabas testudineus.\n",
    "3. Cluster 3: Ikan dengan panjang rata-rata 25 cm, berat rata-rata 5.0 kg, dan rasio berat-panjang 0.35. Spesies yang dominan adalah Sillaginopsis panijus."
   ]
  },
  {
   "cell_type": "markdown",
   "metadata": {
    "id": "hOygRVqs_vdU"
   },
   "source": [
    "# Analisis Karakteristik Cluster dari Model KMeans\n",
    "\n",
    "Berikut adalah analisis karakteristik untuk setiap cluster yang dihasilkan dari model KMeans.\n",
    "\n",
    "## Cluster 1:\n",
    "- **Rata-rata length**: 25.2 cm (min: 22.1, max: 33.8)\n",
    "- **Rata-rata weight**: 5.8 kg (min: 5.1, max: 6.2)\n",
    "- **Rata-rata w_l_ratio**: 0.23 (min: 0.18, max: 0.29)\n",
    "*Interpretasi*: Ikan dengan panjang dan berat tertinggi, rasio berat-panjang rendah.\n",
    "\n",
    "## Cluster 2:\n",
    "- **Rata-rata length**: 12.5 cm (min: 6.3, max: 18.9)\n",
    "- **Rata-rata weight**: 3.1 kg (min: 2.1, max: 4.0)\n",
    "- **Rata-rata w_l_ratio**: 0.25 (min: 0.08, max: 0.35)\n",
    "*Interpretasi*: Ikan kecil dengan berat sedang dan rasio bervariasi.\n",
    "\n",
    "## Cluster 3:\n",
    "- **Rata-rata length**: 19.8 cm (min: 15.0, max: 22.0)\n",
    "- **Rata-rata weight**: 4.5 kg (min: 3.8, max: 5.0)\n",
    "- **Rata-rata w_l_ratio**: 0.23 (min: 0.19, max: 0.26)\n",
    "*Interpretasi*: Ikan berukuran sedang dengan berat dan rasio seimbang."
   ]
  },
  {
   "cell_type": "markdown",
   "metadata": {
    "id": "jaYP1fx5VgWO"
   },
   "source": [
    "# **7. Mengeksport Data**\n",
    "\n",
    "Simpan hasilnya ke dalam file CSV."
   ]
  },
  {
   "cell_type": "code",
   "execution_count": 348,
   "metadata": {},
   "outputs": [
    {
     "name": "stdout",
     "output_type": "stream",
     "text": [
      "Clustered data has been saved to 'clustered_fish_data.csv'.\n"
     ]
    }
   ],
   "source": [
    "# Save the clustered data to a CSV file\n",
    "data.to_csv('fish/fish_data.csv', index=False)\n",
    "\n",
    "print(\"Clustered data has been saved to 'clustered_fish_data.csv'.\")"
   ]
  }
 ],
 "metadata": {
  "colab": {
   "provenance": []
  },
  "kernelspec": {
   "display_name": "Python 3 (ipykernel)",
   "language": "python",
   "name": "python3"
  },
  "language_info": {
   "codemirror_mode": {
    "name": "ipython",
    "version": 3
   },
   "file_extension": ".py",
   "mimetype": "text/x-python",
   "name": "python",
   "nbconvert_exporter": "python",
   "pygments_lexer": "ipython3",
   "version": "3.13.1"
  }
 },
 "nbformat": 4,
 "nbformat_minor": 4
}
