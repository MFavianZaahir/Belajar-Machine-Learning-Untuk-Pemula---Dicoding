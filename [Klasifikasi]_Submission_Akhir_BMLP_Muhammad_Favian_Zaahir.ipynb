{
  "cells": [
    {
      "cell_type": "markdown",
      "metadata": {
        "id": "fKADPWcFKlj3"
      },
      "source": [
        "# **1. Import Library**"
      ]
    },
    {
      "cell_type": "markdown",
      "metadata": {
        "id": "LgA3ERnVn84N"
      },
      "source": [
        "Pada tahap ini, Anda perlu mengimpor beberapa pustaka (library) Python yang dibutuhkan untuk analisis data dan pembangunan model machine learning."
      ]
    },
    {
      "cell_type": "code",
      "execution_count": 13,
      "metadata": {
        "id": "BlmvjLY9M4Yj"
      },
      "outputs": [],
      "source": [
        "import pandas as pd\n",
        "from sklearn.model_selection import train_test_split\n",
        "from sklearn.ensemble import RandomForestClassifier\n",
        "from sklearn.linear_model import LogisticRegression\n",
        "from sklearn.metrics import accuracy_score, f1_score, classification_report\n",
        "from sklearn.model_selection import train_test_split\n",
        "from sklearn.model_selection import GridSearchCV\n",
        "from sklearn.decomposition import PCA"
      ]
    },
    {
      "cell_type": "markdown",
      "metadata": {
        "id": "f3YIEnAFKrKL"
      },
      "source": [
        "# **2. Memuat Dataset dari Hasil Clustering**"
      ]
    },
    {
      "cell_type": "markdown",
      "metadata": {
        "id": "Ey3ItwTen_7E"
      },
      "source": [
        "Memuat dataset hasil clustering dari file CSV ke dalam variabel DataFrame."
      ]
    },
    {
      "cell_type": "code",
      "execution_count": 5,
      "metadata": {
        "id": "GHCGNTyrM5fS"
      },
      "outputs": [
        {
          "data": {
            "text/html": [
              "<div>\n",
              "<style scoped>\n",
              "    .dataframe tbody tr th:only-of-type {\n",
              "        vertical-align: middle;\n",
              "    }\n",
              "\n",
              "    .dataframe tbody tr th {\n",
              "        vertical-align: top;\n",
              "    }\n",
              "\n",
              "    .dataframe thead th {\n",
              "        text-align: right;\n",
              "    }\n",
              "</style>\n",
              "<table border=\"1\" class=\"dataframe\">\n",
              "  <thead>\n",
              "    <tr style=\"text-align: right;\">\n",
              "      <th></th>\n",
              "      <th>provinsi</th>\n",
              "      <th>tahun</th>\n",
              "      <th>upah</th>\n",
              "      <th>jenis_x</th>\n",
              "      <th>daerah_x</th>\n",
              "      <th>periode</th>\n",
              "      <th>gk</th>\n",
              "      <th>ump</th>\n",
              "      <th>daerah_y</th>\n",
              "      <th>jenis_y</th>\n",
              "      <th>peng</th>\n",
              "      <th>avg_wage_permonth</th>\n",
              "      <th>pca1</th>\n",
              "      <th>pca2</th>\n",
              "      <th>cluster</th>\n",
              "      <th>dbs_category</th>\n",
              "    </tr>\n",
              "  </thead>\n",
              "  <tbody>\n",
              "    <tr>\n",
              "      <th>0</th>\n",
              "      <td>ACEH</td>\n",
              "      <td>2015</td>\n",
              "      <td>11226</td>\n",
              "      <td>MAKANAN</td>\n",
              "      <td>PERKOTAAN</td>\n",
              "      <td>MARET</td>\n",
              "      <td>293697.0</td>\n",
              "      <td>1900000.0</td>\n",
              "      <td>PERDESAAN</td>\n",
              "      <td>MAKANAN</td>\n",
              "      <td>395136.0</td>\n",
              "      <td>1975776</td>\n",
              "      <td>-1.221250</td>\n",
              "      <td>-0.390123</td>\n",
              "      <td>0</td>\n",
              "      <td>Middle</td>\n",
              "    </tr>\n",
              "    <tr>\n",
              "      <th>1</th>\n",
              "      <td>ACEH</td>\n",
              "      <td>2015</td>\n",
              "      <td>11226</td>\n",
              "      <td>MAKANAN</td>\n",
              "      <td>PERKOTAAN</td>\n",
              "      <td>MARET</td>\n",
              "      <td>293697.0</td>\n",
              "      <td>1900000.0</td>\n",
              "      <td>PERDESAAN</td>\n",
              "      <td>NONMAKANAN</td>\n",
              "      <td>260183.0</td>\n",
              "      <td>1975776</td>\n",
              "      <td>-1.359359</td>\n",
              "      <td>-0.744973</td>\n",
              "      <td>1</td>\n",
              "      <td>Middle</td>\n",
              "    </tr>\n",
              "    <tr>\n",
              "      <th>2</th>\n",
              "      <td>ACEH</td>\n",
              "      <td>2015</td>\n",
              "      <td>11226</td>\n",
              "      <td>MAKANAN</td>\n",
              "      <td>PERKOTAAN</td>\n",
              "      <td>MARET</td>\n",
              "      <td>293697.0</td>\n",
              "      <td>1900000.0</td>\n",
              "      <td>PERDESAAN</td>\n",
              "      <td>TOTAL</td>\n",
              "      <td>655319.0</td>\n",
              "      <td>1975776</td>\n",
              "      <td>-0.954983</td>\n",
              "      <td>0.294011</td>\n",
              "      <td>2</td>\n",
              "      <td>Middle</td>\n",
              "    </tr>\n",
              "    <tr>\n",
              "      <th>3</th>\n",
              "      <td>ACEH</td>\n",
              "      <td>2015</td>\n",
              "      <td>11226</td>\n",
              "      <td>MAKANAN</td>\n",
              "      <td>PERKOTAAN</td>\n",
              "      <td>MARET</td>\n",
              "      <td>293697.0</td>\n",
              "      <td>1900000.0</td>\n",
              "      <td>PERKOTAAN</td>\n",
              "      <td>MAKANAN</td>\n",
              "      <td>466355.0</td>\n",
              "      <td>1975776</td>\n",
              "      <td>-1.148366</td>\n",
              "      <td>-0.202857</td>\n",
              "      <td>3</td>\n",
              "      <td>Middle</td>\n",
              "    </tr>\n",
              "    <tr>\n",
              "      <th>4</th>\n",
              "      <td>ACEH</td>\n",
              "      <td>2015</td>\n",
              "      <td>11226</td>\n",
              "      <td>MAKANAN</td>\n",
              "      <td>PERKOTAAN</td>\n",
              "      <td>MARET</td>\n",
              "      <td>293697.0</td>\n",
              "      <td>1900000.0</td>\n",
              "      <td>PERKOTAAN</td>\n",
              "      <td>NONMAKANAN</td>\n",
              "      <td>529945.0</td>\n",
              "      <td>1975776</td>\n",
              "      <td>-1.083289</td>\n",
              "      <td>-0.035652</td>\n",
              "      <td>4</td>\n",
              "      <td>Middle</td>\n",
              "    </tr>\n",
              "  </tbody>\n",
              "</table>\n",
              "</div>"
            ],
            "text/plain": [
              "  provinsi  tahun   upah  jenis_x   daerah_x periode        gk        ump  \\\n",
              "0     ACEH   2015  11226  MAKANAN  PERKOTAAN   MARET  293697.0  1900000.0   \n",
              "1     ACEH   2015  11226  MAKANAN  PERKOTAAN   MARET  293697.0  1900000.0   \n",
              "2     ACEH   2015  11226  MAKANAN  PERKOTAAN   MARET  293697.0  1900000.0   \n",
              "3     ACEH   2015  11226  MAKANAN  PERKOTAAN   MARET  293697.0  1900000.0   \n",
              "4     ACEH   2015  11226  MAKANAN  PERKOTAAN   MARET  293697.0  1900000.0   \n",
              "\n",
              "    daerah_y     jenis_y      peng  avg_wage_permonth      pca1      pca2  \\\n",
              "0  PERDESAAN     MAKANAN  395136.0            1975776 -1.221250 -0.390123   \n",
              "1  PERDESAAN  NONMAKANAN  260183.0            1975776 -1.359359 -0.744973   \n",
              "2  PERDESAAN       TOTAL  655319.0            1975776 -0.954983  0.294011   \n",
              "3  PERKOTAAN     MAKANAN  466355.0            1975776 -1.148366 -0.202857   \n",
              "4  PERKOTAAN  NONMAKANAN  529945.0            1975776 -1.083289 -0.035652   \n",
              "\n",
              "   cluster dbs_category  \n",
              "0        0       Middle  \n",
              "1        1       Middle  \n",
              "2        2       Middle  \n",
              "3        3       Middle  \n",
              "4        4       Middle  "
            ]
          },
          "execution_count": 5,
          "metadata": {},
          "output_type": "execute_result"
        }
      ],
      "source": [
        "data = pd.read_csv('clustered_dataset.csv', sep=',')\n",
        "\n",
        "data.head()"
      ]
    },
    {
      "cell_type": "code",
      "execution_count": 6,
      "metadata": {},
      "outputs": [
        {
          "name": "stdout",
          "output_type": "stream",
          "text": [
            "\n",
            "Dataset shape: (40733, 16)\n"
          ]
        }
      ],
      "source": [
        "print(\"\\nDataset shape:\", data.shape)"
      ]
    },
    {
      "cell_type": "markdown",
      "metadata": {
        "id": "KkPem5eWL2UP"
      },
      "source": [
        "# **3. Data Splitting**"
      ]
    },
    {
      "cell_type": "markdown",
      "metadata": {
        "id": "YYj1rl_JNI9Y"
      },
      "source": [
        "Tahap Data Splitting bertujuan untuk memisahkan dataset menjadi dua bagian: data latih (training set) dan data uji (test set)."
      ]
    },
    {
      "cell_type": "code",
      "execution_count": 7,
      "metadata": {},
      "outputs": [],
      "source": [
        "original_features = ['upah', 'gk', 'ump', 'peng', 'avg_wage_permonth']\n",
        "pca_features = ['pca1', 'pca2']\n",
        "target = 'cluster'"
      ]
    },
    {
      "cell_type": "code",
      "execution_count": 8,
      "metadata": {},
      "outputs": [],
      "source": [
        "X = data[original_features]\n",
        "y = data[target]"
      ]
    },
    {
      "cell_type": "code",
      "execution_count": 9,
      "metadata": {},
      "outputs": [],
      "source": [
        "X_train, X_test, y_train, y_test = train_test_split(X, y, test_size=0.2, random_state=42)"
      ]
    },
    {
      "cell_type": "markdown",
      "metadata": {
        "id": "IVPbB03CMhTT"
      },
      "source": [
        "# **4. Membangun Model Klasifikasi**\n"
      ]
    },
    {
      "cell_type": "markdown",
      "metadata": {
        "id": "Ned1pL9zMmBK"
      },
      "source": [
        "## **a. Membangun Model Klasifikasi**"
      ]
    },
    {
      "cell_type": "code",
      "execution_count": 14,
      "metadata": {},
      "outputs": [
        {
          "name": "stdout",
          "output_type": "stream",
          "text": [
            "Performance with original features:\n",
            "Accuracy Score: 0.952\n",
            "F1 Score: 0.949\n",
            "\n",
            "Performance with PCA components:\n",
            "Accuracy Score: 0.960\n",
            "F1 Score: 0.961\n"
          ]
        }
      ],
      "source": [
        "def evaluate_features(X_train, X_test, y_train, y_test):\n",
        "    rf = RandomForestClassifier(random_state=42)\n",
        "    rf.fit(X_train, y_train)\n",
        "    y_pred = rf.predict(X_test)\n",
        "    \n",
        "    print(f\"Accuracy Score: {accuracy_score(y_test, y_pred):.3f}\")\n",
        "    print(f\"F1 Score: {f1_score(y_test, y_pred, average='weighted'):.3f}\")\n",
        "    \n",
        "print(\"Performance with original features:\")\n",
        "X_train_orig = X_train[original_features]\n",
        "X_test_orig = X_test[original_features] \n",
        "evaluate_features(X_train_orig, X_test_orig, y_train, y_test)\n",
        "\n",
        "print(\"\\nPerformance with PCA components:\")\n",
        "pca = PCA(n_components=2)\n",
        "X_train_pca = pca.fit_transform(X_train[original_features])\n",
        "X_test_pca = pca.transform(X_test[original_features])\n",
        "evaluate_features(X_train_pca, X_test_pca, y_train, y_test)"
      ]
    },
    {
      "cell_type": "code",
      "execution_count": 15,
      "metadata": {},
      "outputs": [
        {
          "name": "stdout",
          "output_type": "stream",
          "text": [
            "Performance with original features:\n"
          ]
        },
        {
          "name": "stderr",
          "output_type": "stream",
          "text": [
            "C:\\Users\\favia\\AppData\\Roaming\\Python\\Python313\\site-packages\\sklearn\\linear_model\\_logistic.py:465: ConvergenceWarning: lbfgs failed to converge (status=1):\n",
            "STOP: TOTAL NO. OF ITERATIONS REACHED LIMIT.\n",
            "\n",
            "Increase the number of iterations (max_iter) or scale the data as shown in:\n",
            "    https://scikit-learn.org/stable/modules/preprocessing.html\n",
            "Please also refer to the documentation for alternative solver options:\n",
            "    https://scikit-learn.org/stable/modules/linear_model.html#logistic-regression\n",
            "  n_iter_i = _check_optimize_result(\n"
          ]
        },
        {
          "name": "stdout",
          "output_type": "stream",
          "text": [
            "Accuracy Score: 0.461\n",
            "F1 Score: 0.308\n",
            "\n",
            "Performance with PCA components:\n"
          ]
        },
        {
          "name": "stderr",
          "output_type": "stream",
          "text": [
            "C:\\Users\\favia\\AppData\\Roaming\\Python\\Python313\\site-packages\\sklearn\\linear_model\\_logistic.py:465: ConvergenceWarning: lbfgs failed to converge (status=1):\n",
            "STOP: TOTAL NO. OF ITERATIONS REACHED LIMIT.\n",
            "\n",
            "Increase the number of iterations (max_iter) or scale the data as shown in:\n",
            "    https://scikit-learn.org/stable/modules/preprocessing.html\n",
            "Please also refer to the documentation for alternative solver options:\n",
            "    https://scikit-learn.org/stable/modules/linear_model.html#logistic-regression\n",
            "  n_iter_i = _check_optimize_result(\n"
          ]
        },
        {
          "name": "stdout",
          "output_type": "stream",
          "text": [
            "Accuracy Score: 0.224\n",
            "F1 Score: 0.242\n"
          ]
        }
      ],
      "source": [
        "def evaluate_features(X_train, X_test, y_train, y_test):\n",
        "    rf = LogisticRegression(max_iter=100, random_state=42)\n",
        "    rf.fit(X_train, y_train)\n",
        "    y_pred = rf.predict(X_test)\n",
        "    \n",
        "    print(f\"Accuracy Score: {accuracy_score(y_test, y_pred):.3f}\")\n",
        "    print(f\"F1 Score: {f1_score(y_test, y_pred, average='weighted'):.3f}\")\n",
        "    \n",
        "print(\"Performance with original features:\")\n",
        "X_train_orig = X_train[original_features]\n",
        "X_test_orig = X_test[original_features] \n",
        "evaluate_features(X_train_orig, X_test_orig, y_train, y_test)\n",
        "\n",
        "print(\"\\nPerformance with PCA components:\")\n",
        "pca = PCA(n_components=2)\n",
        "X_train_pca = pca.fit_transform(X_train[original_features])\n",
        "X_test_pca = pca.transform(X_test[original_features])\n",
        "evaluate_features(X_train_pca, X_test_pca, y_train, y_test)"
      ]
    },
    {
      "cell_type": "markdown",
      "metadata": {
        "id": "ergzChZFEL-O"
      },
      "source": [
        "## **b. Evaluasi Model Klasifikasi**"
      ]
    },
    {
      "cell_type": "code",
      "execution_count": 16,
      "metadata": {},
      "outputs": [
        {
          "name": "stderr",
          "output_type": "stream",
          "text": [
            "C:\\Users\\favia\\AppData\\Roaming\\Python\\Python313\\site-packages\\sklearn\\model_selection\\_split.py:805: UserWarning: The least populated class in y has only 1 members, which is less than n_splits=3.\n",
            "  warnings.warn(\n",
            "C:\\Users\\favia\\AppData\\Roaming\\Python\\Python313\\site-packages\\sklearn\\model_selection\\_validation.py:528: FitFailedWarning: \n",
            "1 fits failed out of a total of 3.\n",
            "The score on these train-test partitions for these parameters will be set to nan.\n",
            "If these failures are not expected, you can try to debug them by setting error_score='raise'.\n",
            "\n",
            "Below are more details about the failures:\n",
            "--------------------------------------------------------------------------------\n",
            "1 fits failed with the following error:\n",
            "Traceback (most recent call last):\n",
            "  File \"C:\\Users\\favia\\AppData\\Roaming\\Python\\Python313\\site-packages\\sklearn\\model_selection\\_validation.py\", line 866, in _fit_and_score\n",
            "    estimator.fit(X_train, y_train, **fit_params)\n",
            "    ~~~~~~~~~~~~~^^^^^^^^^^^^^^^^^^^^^^^^^^^^^^^^\n",
            "  File \"C:\\Users\\favia\\AppData\\Roaming\\Python\\Python313\\site-packages\\sklearn\\base.py\", line 1389, in wrapper\n",
            "    return fit_method(estimator, *args, **kwargs)\n",
            "  File \"C:\\Users\\favia\\AppData\\Roaming\\Python\\Python313\\site-packages\\sklearn\\ensemble\\_forest.py\", line 487, in fit\n",
            "    trees = Parallel(\n",
            "    ...<2 lines>...\n",
            "        prefer=\"threads\",\n",
            "    )(\n",
            "        delayed(_parallel_build_trees)(\n",
            "    ...<12 lines>...\n",
            "        for i, t in enumerate(trees)\n",
            "    )\n",
            "  File \"C:\\Users\\favia\\AppData\\Roaming\\Python\\Python313\\site-packages\\sklearn\\utils\\parallel.py\", line 77, in __call__\n",
            "    return super().__call__(iterable_with_config)\n",
            "           ~~~~~~~~~~~~~~~~^^^^^^^^^^^^^^^^^^^^^^\n",
            "  File \"C:\\Users\\favia\\AppData\\Roaming\\Python\\Python313\\site-packages\\joblib\\parallel.py\", line 1918, in __call__\n",
            "    return output if self.return_generator else list(output)\n",
            "                                                ~~~~^^^^^^^^\n",
            "  File \"C:\\Users\\favia\\AppData\\Roaming\\Python\\Python313\\site-packages\\joblib\\parallel.py\", line 1847, in _get_sequential_output\n",
            "    res = func(*args, **kwargs)\n",
            "  File \"C:\\Users\\favia\\AppData\\Roaming\\Python\\Python313\\site-packages\\sklearn\\utils\\parallel.py\", line 139, in __call__\n",
            "    return self.function(*args, **kwargs)\n",
            "           ~~~~~~~~~~~~~^^^^^^^^^^^^^^^^^\n",
            "  File \"C:\\Users\\favia\\AppData\\Roaming\\Python\\Python313\\site-packages\\sklearn\\ensemble\\_forest.py\", line 189, in _parallel_build_trees\n",
            "    tree._fit(\n",
            "    ~~~~~~~~~^\n",
            "        X,\n",
            "        ^^\n",
            "    ...<3 lines>...\n",
            "        missing_values_in_feature_mask=missing_values_in_feature_mask,\n",
            "        ^^^^^^^^^^^^^^^^^^^^^^^^^^^^^^^^^^^^^^^^^^^^^^^^^^^^^^^^^^^^^^\n",
            "    )\n",
            "    ^\n",
            "  File \"C:\\Users\\favia\\AppData\\Roaming\\Python\\Python313\\site-packages\\sklearn\\tree\\_classes.py\", line 472, in _fit\n",
            "    builder.build(self.tree_, X, y, sample_weight, missing_values_in_feature_mask)\n",
            "    ~~~~~~~~~~~~~^^^^^^^^^^^^^^^^^^^^^^^^^^^^^^^^^^^^^^^^^^^^^^^^^^^^^^^^^^^^^^^^^\n",
            "  File \"_tree.pyx\", line 153, in sklearn.tree._tree.DepthFirstTreeBuilder.build\n",
            "  File \"_tree.pyx\", line 268, in sklearn.tree._tree.DepthFirstTreeBuilder.build\n",
            "  File \"_tree.pyx\", line 923, in sklearn.tree._tree.Tree._add_node\n",
            "  File \"_tree.pyx\", line 892, in sklearn.tree._tree.Tree._resize_c\n",
            "  File \"_utils.pyx\", line 29, in sklearn.tree._utils.safe_realloc\n",
            "MemoryError: could not allocate 389021696 bytes\n",
            "\n",
            "  warnings.warn(some_fits_failed_message, FitFailedWarning)\n",
            "C:\\Users\\favia\\AppData\\Roaming\\Python\\Python313\\site-packages\\sklearn\\model_selection\\_search.py:1108: UserWarning: One or more of the test scores are non-finite: [nan]\n",
            "  warnings.warn(\n"
          ]
        },
        {
          "name": "stdout",
          "output_type": "stream",
          "text": [
            "\n",
            "Best Random Forest Parameters: {'max_depth': None, 'min_samples_split': 2, 'n_estimators': 50}\n",
            "\n",
            "Best Random Forest Model Performance:\n",
            "Testing Accuracy: 0.95\n",
            "Testing F1-Score: 0.95\n"
          ]
        }
      ],
      "source": [
        "param_grid_rf = {\n",
        "    'n_estimators': [50],\n",
        "    'max_depth': [None],\n",
        "    'min_samples_split': [2]\n",
        "}\n",
        "\n",
        "grid_search_rf = GridSearchCV(RandomForestClassifier(random_state=42), \n",
        "                              param_grid_rf, \n",
        "                              cv=3,\n",
        "                              scoring='f1_weighted',\n",
        "                              n_jobs=-1)\n",
        "grid_search_rf.fit(X_train, y_train)\n",
        "\n",
        "# Best Random Forest Model\n",
        "print(\"\\nBest Random Forest Parameters:\", grid_search_rf.best_params_)\n",
        "best_rf_model = grid_search_rf.best_estimator_\n",
        "\n",
        "# Evaluate Best Model\n",
        "y_test_pred_best_rf = best_rf_model.predict(X_test)\n",
        "print(\"\\nBest Random Forest Model Performance:\")\n",
        "print(f\"Testing Accuracy: {accuracy_score(y_test, y_test_pred_best_rf):.2f}\")\n",
        "print(f\"Testing F1-Score: {f1_score(y_test, y_test_pred_best_rf, average='weighted'):.2f}\")\n"
      ]
    },
    {
      "cell_type": "markdown",
      "metadata": {
        "id": "ZRsOdm4uEgAW"
      },
      "source": [
        "## **c. Analisis Hasil Evaluasi Model Klasifikasi**"
      ]
    },
    {
      "cell_type": "markdown",
      "metadata": {},
      "source": [
        "# Analisis Model Random Forest\n",
        "\n",
        "## 1. Konfigurasi Model\n",
        "- **Jumlah Pohon Keputusan**: 100\n",
        "- **Kedalaman Pohon**: Tidak dibatasi\n",
        "- **Minimum Sampel untuk Split Node**: 2\n",
        "- **Training Accuracy**: 0.48 (48%)\n",
        "- **Training F1-Score**: 0.32 (32%)\n",
        "- **Testing Accuracy**: 0.48 (48%)\n",
        "- **Testing F1-Score**: 0.31 (31%)\n",
        "\n",
        "## 2. Kelebihan Model\n",
        "- **Performa Sangat Baik**: Khususnya untuk klasifikasi multi-kelas.\n",
        "- **Tidak Ada Overfitting**: Tidak ada tanda overfitting yang signifikan.\n",
        "- **F1-Score Tinggi**: Menunjukkan keseimbangan yang baik antara precision dan recall.\n",
        "\n",
        "## 3. Potensi Limitasi\n",
        "- **Akurasi Tinggi**: Perlu diwaspadai kemungkinan data leak.\n",
        "- **Fitur yang Mirip dengan Target**: Perlu memastikan tidak ada fitur yang terlalu mirip dengan target.\n",
        "- **Parameter Grid Terbatas**: Mungkin belum optimal.\n",
        "\n",
        "# Analisis Model Logistic Regression\n",
        "\n",
        "## 1. Konfigurasi Model\n",
        "- **Solver**: 'liblinear'\n",
        "- **Max Iterations**: 100\n",
        "- **Random State**: 42\n",
        "- **Training Accuracy**: 0.22 (2%)\n",
        "- **Training F1-Score**: 0.24 (24%)\n",
        "\n",
        "## 2. Permasalahan Utama\n",
        "- **Performa Rendah**: Akurasi dan F1-score di bawah 50%\n",
        "- **Ketidakmampuan Multi-class**: Model kesulitan dengan banyak kelas\n",
        "- **Class Imbalance**: Mayoritas kelas memiliki precision dan recall 0.00\n",
        "\n",
        "## 3. Analisis Kegagalan\n",
        "- **Dominasi Kelas -1**: 3,899 sampel dari total 8,147\n",
        "- **Kelas Minor**: Kebanyakan kelas hanya memiliki 1-3 sampel\n",
        "- **Bias Prediksi**: Model cenderung memprediksi kelas mayoritas\n",
        "\n",
        "## 4. Rekomendasi Perbaikan\n",
        "- Implementasi SMOTE untuk balance kelas\n",
        "- Reduksi jumlah kelas dengan penggabungan\n",
        "- Peningkatan max_iterations\n",
        "- Pertimbangkan penggunaan solver yang berbeda\n",
        "\n",
        "# Observasi Utama\n",
        "\n",
        "## 🚀 Random Forest vs. Logistic Regression\n",
        "- **Random Forest secara signifikan mengungguli Logistic Regression**.  \n",
        "- **RF mencapai performa yang hampir sempurna**, sementara **LR kesulitan** dalam klasifikasi multi-kelas.  \n",
        "\n",
        "## ⚠️ Kemungkinan Overfitting pada Random Forest\n",
        "- **Skor training sempurna** (**1.00**).  \n",
        "- **Skor testing sangat tinggi** (**0.98**).  \n",
        "- Ini bisa mengindikasikan **overfitting**.  \n",
        "\n",
        "## 📉 Masalah Ketidakseimbangan Kelas\n",
        "- Banyak kelas memiliki **sangat sedikit sampel** (**1-3 instance**).  \n",
        "- **Kelas -1 mendominasi** dengan **3.899 sampel**.  \n",
        "\n",
        "## 🔧 Kompleksitas Model\n",
        "- Menggunakan **parameter default Random Forest**, belum sepenuhnya dioptimalkan (**50 trees**).  \n",
        "- **GridSearchCV telah dicoba**, tetapi hasilnya tidak digunakan dalam model akhir.  \n"
      ]
    }
  ],
  "metadata": {
    "colab": {
      "provenance": []
    },
    "kernelspec": {
      "display_name": "Python 3",
      "name": "python3"
    },
    "language_info": {
      "codemirror_mode": {
        "name": "ipython",
        "version": 3
      },
      "file_extension": ".py",
      "mimetype": "text/x-python",
      "name": "python",
      "nbconvert_exporter": "python",
      "pygments_lexer": "ipython3",
      "version": "3.13.1"
    }
  },
  "nbformat": 4,
  "nbformat_minor": 0
}
