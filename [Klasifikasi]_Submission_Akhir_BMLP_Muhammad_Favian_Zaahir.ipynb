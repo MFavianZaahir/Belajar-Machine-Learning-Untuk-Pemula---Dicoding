{
  "cells": [
    {
      "cell_type": "markdown",
      "metadata": {
        "id": "fKADPWcFKlj3"
      },
      "source": [
        "# **1. Import Library**"
      ]
    },
    {
      "cell_type": "code",
      "execution_count": 1,
      "metadata": {
        "id": "BlmvjLY9M4Yj"
      },
      "outputs": [],
      "source": [
        "import pandas as pd\n",
        "import numpy as np\n",
        "from sklearn.model_selection import train_test_split\n",
        "from sklearn.linear_model import LogisticRegression\n",
        "from sklearn.ensemble import RandomForestClassifier\n",
        "from sklearn.metrics import accuracy_score, f1_score, confusion_matrix, classification_report\n",
        "from sklearn.model_selection import GridSearchCV"
      ]
    },
    {
      "cell_type": "markdown",
      "metadata": {
        "id": "f3YIEnAFKrKL"
      },
      "source": [
        "# **2. Memuat Dataset dari Hasil Clustering**"
      ]
    },
    {
      "cell_type": "markdown",
      "metadata": {
        "id": "Ey3ItwTen_7E"
      },
      "source": [
        "Memuat dataset hasil clustering dari file CSV ke dalam variabel DataFrame."
      ]
    },
    {
      "cell_type": "code",
      "execution_count": 6,
      "metadata": {
        "id": "GHCGNTyrM5fS"
      },
      "outputs": [
        {
          "name": "stdout",
          "output_type": "stream",
          "text": [
            "              species  length  weight  w_l_ratio\n",
            "0  Anabas testudineus   10.66    3.45       0.32\n",
            "1  Anabas testudineus    6.91    3.27       0.47\n",
            "2  Anabas testudineus    8.38    3.46       0.41\n",
            "3  Anabas testudineus    7.57    3.36       0.44\n",
            "4  Anabas testudineus   10.83    3.38       0.31\n"
          ]
        }
      ],
      "source": [
        "# Memuat dataset hasil clustering\n",
        "df = pd.read_csv('fish/fish.csv')  # Pastikan file ini sudah ada\n",
        "print(df.head())"
      ]
    },
    {
      "cell_type": "markdown",
      "metadata": {
        "id": "KkPem5eWL2UP"
      },
      "source": [
        "# **3. Data Splitting**"
      ]
    },
    {
      "cell_type": "markdown",
      "metadata": {
        "id": "YYj1rl_JNI9Y"
      },
      "source": [
        "Tahap Data Splitting bertujuan untuk memisahkan dataset menjadi dua bagian: data latih (training set) dan data uji (test set)."
      ]
    },
    {
      "cell_type": "markdown",
      "metadata": {
        "id": "IVPbB03CMhTT"
      },
      "source": [
        "# **4. Membangun Model Klasifikasi**\n"
      ]
    },
    {
      "cell_type": "markdown",
      "metadata": {
        "id": "Ned1pL9zMmBK"
      },
      "source": [
        "## **a. Membangun Model Klasifikasi**"
      ]
    },
    {
      "cell_type": "code",
      "execution_count": 7,
      "metadata": {
        "id": "4JYxBe87NLDk"
      },
      "outputs": [
        {
          "ename": "NameError",
          "evalue": "name 'X_train' is not defined",
          "output_type": "error",
          "traceback": [
            "\u001b[1;31m---------------------------------------------------------------------------\u001b[0m",
            "\u001b[1;31mNameError\u001b[0m                                 Traceback (most recent call last)",
            "Cell \u001b[1;32mIn[7], line 6\u001b[0m\n\u001b[0;32m      3\u001b[0m rf \u001b[38;5;241m=\u001b[39m RandomForestClassifier(random_state\u001b[38;5;241m=\u001b[39m\u001b[38;5;241m42\u001b[39m)\n\u001b[0;32m      5\u001b[0m \u001b[38;5;66;03m# Latih model\u001b[39;00m\n\u001b[1;32m----> 6\u001b[0m logreg\u001b[38;5;241m.\u001b[39mfit(\u001b[43mX_train\u001b[49m, y_train)\n\u001b[0;32m      7\u001b[0m rf\u001b[38;5;241m.\u001b[39mfit(X_train, y_train)\n",
            "\u001b[1;31mNameError\u001b[0m: name 'X_train' is not defined"
          ]
        }
      ],
      "source": [
        "# Inisialisasi model\n",
        "logreg = LogisticRegression(max_iter=1000, random_state=42)\n",
        "rf = RandomForestClassifier(random_state=42)\n",
        "\n",
        "# Latih model\n",
        "logreg.fit(X_train, y_train)\n",
        "rf.fit(X_train, y_train)"
      ]
    },
    {
      "cell_type": "markdown",
      "metadata": {
        "id": "seYoHNY3XU1y"
      },
      "source": [
        "Tulis narasi atau penjelasan algoritma yang Anda gunakan."
      ]
    },
    {
      "cell_type": "markdown",
      "metadata": {
        "id": "ergzChZFEL-O"
      },
      "source": [
        "## **b. Evaluasi Model Klasifikasi**"
      ]
    },
    {
      "cell_type": "code",
      "execution_count": null,
      "metadata": {
        "id": "tMq4QAssNLip"
      },
      "outputs": [
        {
          "name": "stdout",
          "output_type": "stream",
          "text": [
            "Logistic Regression:\n",
            "Akurasi (Train): 1.00, Akurasi (Test): 1.00\n",
            "F1-Score (Train): 1.00, F1-Score (Test): 1.00\n",
            "Confusion Matrix:\n",
            "[[ 78   0   0]\n",
            " [  0 437   1]\n",
            " [  0   0 279]]\n",
            "\n",
            "Classification Report:\n",
            "              precision    recall  f1-score   support\n",
            "\n",
            "           0       1.00      1.00      1.00        78\n",
            "           1       1.00      1.00      1.00       438\n",
            "           2       1.00      1.00      1.00       279\n",
            "\n",
            "    accuracy                           1.00       795\n",
            "   macro avg       1.00      1.00      1.00       795\n",
            "weighted avg       1.00      1.00      1.00       795\n",
            "\n",
            "\n",
            "Random Forest:\n",
            "Akurasi (Train): 1.00, Akurasi (Test): 1.00\n",
            "F1-Score (Train): 1.00, F1-Score (Test): 1.00\n",
            "Confusion Matrix:\n",
            "[[ 78   0   0]\n",
            " [  0 438   0]\n",
            " [  0   0 279]]\n",
            "\n",
            "Classification Report:\n",
            "              precision    recall  f1-score   support\n",
            "\n",
            "           0       1.00      1.00      1.00        78\n",
            "           1       1.00      1.00      1.00       438\n",
            "           2       1.00      1.00      1.00       279\n",
            "\n",
            "    accuracy                           1.00       795\n",
            "   macro avg       1.00      1.00      1.00       795\n",
            "weighted avg       1.00      1.00      1.00       795\n",
            "\n"
          ]
        }
      ],
      "source": [
        "# Fungsi untuk evaluasi model\n",
        "def evaluate_model(model, X_train, y_train, X_test, y_test):\n",
        "    # Prediksi\n",
        "    y_pred_train = model.predict(X_train)\n",
        "    y_pred_test = model.predict(X_test)\n",
        "    \n",
        "    # Hitung metrik\n",
        "    accuracy_train = accuracy_score(y_train, y_pred_train)\n",
        "    accuracy_test = accuracy_score(y_test, y_pred_test)\n",
        "    f1_train = f1_score(y_train, y_pred_train, average='weighted')\n",
        "    f1_test = f1_score(y_test, y_pred_test, average='weighted')\n",
        "    \n",
        "    # Confusion matrix\n",
        "    cm = confusion_matrix(y_test, y_pred_test)\n",
        "    \n",
        "    # Tampilkan hasil\n",
        "    print(f\"Akurasi (Train): {accuracy_train:.2f}, Akurasi (Test): {accuracy_test:.2f}\")\n",
        "    print(f\"F1-Score (Train): {f1_train:.2f}, F1-Score (Test): {f1_test:.2f}\")\n",
        "    print(\"Confusion Matrix:\")\n",
        "    print(cm)\n",
        "    print(\"\\nClassification Report:\")\n",
        "    print(classification_report(y_test, y_pred_test))\n",
        "\n",
        "# Evaluasi Logistic Regression\n",
        "print(\"Logistic Regression:\")\n",
        "evaluate_model(logreg, X_train, y_train, X_test, y_test)\n",
        "\n",
        "# Evaluasi Random Forest\n",
        "print(\"\\nRandom Forest:\")\n",
        "evaluate_model(rf, X_train, y_train, X_test, y_test)"
      ]
    },
    {
      "cell_type": "markdown",
      "metadata": {
        "id": "H4_9OwrsXZlz"
      },
      "source": [
        "Tulis hasil evaluasi algoritma yang digunakan, jika Anda menggunakan 2 algoritma, maka bandingkan hasilnya."
      ]
    },
    {
      "cell_type": "markdown",
      "metadata": {
        "id": "ph9yIYDXEPuB"
      },
      "source": [
        "## **c. Tuning Model Klasifikasi (Optional)**"
      ]
    },
    {
      "cell_type": "code",
      "execution_count": null,
      "metadata": {
        "id": "winbFzb8NL95"
      },
      "outputs": [
        {
          "name": "stdout",
          "output_type": "stream",
          "text": [
            "Best Parameters: {'max_depth': None, 'min_samples_split': 2, 'n_estimators': 100}\n"
          ]
        }
      ],
      "source": [
        "# Tentukan parameter grid\n",
        "param_grid = {\n",
        "    'n_estimators': [100, 200, 300],\n",
        "    'max_depth': [None, 10, 20],\n",
        "    'min_samples_split': [2, 5, 10]\n",
        "}\n",
        "\n",
        "# GridSearchCV\n",
        "grid_search = GridSearchCV(estimator=rf, param_grid=param_grid, cv=5, scoring='accuracy')\n",
        "grid_search.fit(X_train, y_train)\n",
        "\n",
        "# Model terbaik\n",
        "best_rf = grid_search.best_estimator_\n",
        "print(f\"Best Parameters: {grid_search.best_params_}\")"
      ]
    },
    {
      "cell_type": "markdown",
      "metadata": {
        "id": "hE7pqlEPEYzI"
      },
      "source": [
        "## **d. Evaluasi Model Klasifikasi setelah Tuning (Optional)**"
      ]
    },
    {
      "cell_type": "code",
      "execution_count": null,
      "metadata": {
        "id": "HTXZRvEeNMb1"
      },
      "outputs": [
        {
          "name": "stdout",
          "output_type": "stream",
          "text": [
            "Random Forest (After Tuning):\n",
            "Akurasi (Train): 1.00, Akurasi (Test): 1.00\n",
            "F1-Score (Train): 1.00, F1-Score (Test): 1.00\n",
            "Confusion Matrix:\n",
            "[[ 78   0   0]\n",
            " [  0 438   0]\n",
            " [  0   0 279]]\n",
            "\n",
            "Classification Report:\n",
            "              precision    recall  f1-score   support\n",
            "\n",
            "           0       1.00      1.00      1.00        78\n",
            "           1       1.00      1.00      1.00       438\n",
            "           2       1.00      1.00      1.00       279\n",
            "\n",
            "    accuracy                           1.00       795\n",
            "   macro avg       1.00      1.00      1.00       795\n",
            "weighted avg       1.00      1.00      1.00       795\n",
            "\n"
          ]
        }
      ],
      "source": [
        "print(\"Random Forest (After Tuning):\")\n",
        "evaluate_model(best_rf, X_train, y_train, X_test, y_test)"
      ]
    },
    {
      "cell_type": "markdown",
      "metadata": {
        "id": "ZRsOdm4uEgAW"
      },
      "source": [
        "## **e. Analisis Hasil Evaluasi Model Klasifikasi**"
      ]
    },
    {
      "cell_type": "markdown",
      "metadata": {
        "id": "Hm3BhSi6N4_l"
      },
      "source": [
        "Logistic Regression: Akurasi dan F1-score sempurna (100%), tetapi Random Forest lebih unggul.\n",
        "\n",
        "Random Forest: Akurasi dan F1-score mencapai 100%, menunjukkan performa yang sangat baik.\n",
        "\n",
        "Setelah Tuning: Performa Random Forest tetap(akurasi 100%).\n",
        "\n",
        "Rekomendasi:\n",
        "\n",
        "    Jika hasil belum memuaskan, coba algoritma lain seperti Gradient Boosting atau SVM.\n",
        "\n",
        "    Kumpulkan lebih banyak data untuk meningkatkan generalisasi model."
      ]
    }
  ],
  "metadata": {
    "colab": {
      "provenance": []
    },
    "kernelspec": {
      "display_name": "Python 3",
      "name": "python3"
    },
    "language_info": {
      "codemirror_mode": {
        "name": "ipython",
        "version": 3
      },
      "file_extension": ".py",
      "mimetype": "text/x-python",
      "name": "python",
      "nbconvert_exporter": "python",
      "pygments_lexer": "ipython3",
      "version": "3.13.1"
    }
  },
  "nbformat": 4,
  "nbformat_minor": 0
}
